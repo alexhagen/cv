{
 "cells": [
  {
   "cell_type": "code",
   "execution_count": 1,
   "metadata": {
    "collapsed": false
   },
   "outputs": [
    {
     "data": {
      "application/javascript": [
       "\n",
       "MathJax.Hub.Register.StartupHook(\"TeX Jax Ready\",function () {\n",
       "  var MML = MathJax.ElementJax.mml,\n",
       "      TeX = MathJax.InputJax.TeX;\n",
       "\n",
       "  TeX.Definitions.macros.nicefrac = \"myBevelFraction\";\n",
       "  TeX.Definitions.macros.unit = \"myUnit\";\n",
       "  TeX.Definitions.macros.ce = \"myCe\";\n",
       "\n",
       "  TeX.Parse.Augment({\n",
       "    myBevelFraction: function (name) {\n",
       "      var num = this.ParseArg(name),\n",
       "          den = this.ParseArg(name);\n",
       "      this.Push(MML.mfrac(num,den).With({bevelled: true}));\n",
       "    },\n",
       "    myUnit: function(name) {\n",
       "      var num = this.ParseArg(name);\n",
       "      var den = 2;\n",
       "      this.Push(MML.mtext(num).With({variant: 'normal'}));\n",
       "    },\n",
       "    myCe: function(name) {\n",
       "      var num = this.ParseArg(name);\n",
       "      var den = 2;\n",
       "      this.Push(MML.mtext(num).With({variant: 'normal'}));\n",
       "    }\n",
       "  });\n",
       "  MathJax.Hub.Insert(MathJax.InputJax.TeX.Definitions.macros,{\n",
       "      cancel: [\"Extension\",\"cancel\"],\n",
       "      bcancel: [\"Extension\",\"cancel\"],\n",
       "      xcancel: [\"Extension\",\"cancel\"],\n",
       "      cancelto: [\"Extension\",\"cancel\"]\n",
       "    });\n",
       "});\n"
      ],
      "text/plain": [
       "<IPython.core.display.Javascript object>"
      ]
     },
     "metadata": {},
     "output_type": "display_data"
    }
   ],
   "source": [
    "import lyxithea.lyxithea as lyx\n",
    "\n",
    "bib_selected = lyx.bib('bibs/authored.bib')\n",
    "bib_full = lyx.bib('bibs/authored.bib')\n",
    "bib_patent = lyx.bib('bibs/authored.bib')\n",
    "# NAME FOR A PYTHON CV CODE COULD BE SIEVE"
   ]
  },
  {
   "cell_type": "code",
   "execution_count": 2,
   "metadata": {
    "collapsed": true
   },
   "outputs": [],
   "source": [
    "# Header section\n",
    "# Name\n",
    "# email\n",
    "# phone\n",
    "# website\n",
    "# location"
   ]
  },
  {
   "cell_type": "code",
   "execution_count": 3,
   "metadata": {
    "collapsed": true
   },
   "outputs": [],
   "source": [
    "# research experience section\n",
    "# tag important or not"
   ]
  },
  {
   "cell_type": "code",
   "execution_count": 4,
   "metadata": {
    "collapsed": true
   },
   "outputs": [],
   "source": [
    "# industrial experience section\n",
    "# tag important or not"
   ]
  },
  {
   "cell_type": "code",
   "execution_count": 5,
   "metadata": {
    "collapsed": true
   },
   "outputs": [],
   "source": [
    "# teaching experience section\n",
    "# tag important or not"
   ]
  },
  {
   "cell_type": "code",
   "execution_count": 6,
   "metadata": {
    "collapsed": true
   },
   "outputs": [],
   "source": [
    "# external projects section\n",
    "# tag important or not"
   ]
  },
  {
   "cell_type": "code",
   "execution_count": 7,
   "metadata": {
    "collapsed": true
   },
   "outputs": [],
   "source": [
    "# authored articles section\n",
    "# put in selected or full, depending\n",
    "# presentations section\n",
    "# put in selected or full, depending\n",
    "# patents section\n",
    "# put in selected or full, depending"
   ]
  },
  {
   "cell_type": "code",
   "execution_count": 8,
   "metadata": {
    "collapsed": true
   },
   "outputs": [],
   "source": [
    "# awards section\n",
    "# tag important or not"
   ]
  },
  {
   "cell_type": "code",
   "execution_count": 9,
   "metadata": {
    "collapsed": true
   },
   "outputs": [],
   "source": [
    "# leadership section\n",
    "# tag important or not"
   ]
  },
  {
   "cell_type": "code",
   "execution_count": 10,
   "metadata": {
    "collapsed": true
   },
   "outputs": [],
   "source": [
    "# afiliations section\n",
    "# tag important or not"
   ]
  },
  {
   "cell_type": "code",
   "execution_count": null,
   "metadata": {
    "collapsed": true
   },
   "outputs": [],
   "source": [
    "# export section\n",
    "# give job title, objective, cover letter possibly\n",
    "# indicate if resume is over two pages"
   ]
  }
 ],
 "metadata": {
  "hide_input": false,
  "kernelspec": {
   "display_name": "Python 2",
   "language": "python",
   "name": "python2"
  },
  "language_info": {
   "codemirror_mode": {
    "name": "ipython",
    "version": 2
   },
   "file_extension": ".py",
   "mimetype": "text/x-python",
   "name": "python",
   "nbconvert_exporter": "python",
   "pygments_lexer": "ipython2",
   "version": "2.7.13"
  },
  "latex_envs": {
   "LaTeX_envs_menu_present": true,
   "autocomplete": true,
   "bibliofile": "biblio.bib",
   "cite_by": "apalike",
   "current_citInitial": 1,
   "eqLabelWithNumbers": true,
   "eqNumInitial": 1,
   "hotkeys": {
    "equation": "Ctrl-E",
    "itemize": "Ctrl-I"
   },
   "labels_anchors": false,
   "latex_user_defs": false,
   "report_style_numbering": false,
   "user_envs_cfg": false
  }
 },
 "nbformat": 4,
 "nbformat_minor": 2
}
