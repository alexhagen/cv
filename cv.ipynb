{
 "cells": [
  {
   "cell_type": "code",
   "execution_count": 57,
   "metadata": {
    "collapsed": false,
    "deletable": true,
    "editable": true
   },
   "outputs": [],
   "source": [
    "%autoreload 2\n",
    "import lyxithea.lyxithea as lyx\n",
    "import sieve.sieve as sieve\n",
    "\n",
    "bib_selected = lyx.bib('bibs/authored.bib')\n",
    "bib_full = lyx.bib('bibs/authored.bib')\n",
    "bib_patent = lyx.bib('bibs/authored.bib')\n",
    "\n",
    "cv = sieve.sieve('Alex Hagen')"
   ]
  },
  {
   "cell_type": "code",
   "execution_count": 58,
   "metadata": {
    "collapsed": false,
    "deletable": true,
    "editable": true
   },
   "outputs": [],
   "source": [
    "# Header section\n",
    "# email\n",
    "cv.email('ahagen@purdue.edu')\n",
    "# phone\n",
    "cv.phone('(765)418-4155')\n",
    "# website\n",
    "cv.website('alexhagen.github.io/portfolio')\n",
    "# location\n",
    "cv.location('225 N. 2nd St., 3C, Lafayette, IN')"
   ]
  },
  {
   "cell_type": "code",
   "execution_count": 59,
   "metadata": {
    "collapsed": false
   },
   "outputs": [],
   "source": [
    "# education section\n",
    "cv.section('Education')\n",
    "pu_phd = sieve.phd('Nuclear Engineering').important()\n",
    "pu_ms = sieve.ms('Nuclear Engineering').important()\n",
    "pu_bs = sieve.bs('Nuclear Engineering').important()\n",
    "cw = sieve.degree('Partial B.S.', 'Biomedical Engineering')\n",
    "cv.add([pu_phd, pu_ms, pu_bs, cw])"
   ]
  },
  {
   "cell_type": "code",
   "execution_count": 60,
   "metadata": {
    "collapsed": true,
    "deletable": true,
    "editable": true
   },
   "outputs": [],
   "source": [
    "# research experience section\n",
    "cv.section('Research Experience')\n",
    "mfrl_grad = sieve.job().important()\n",
    "mfrl_ugrad = sieve.job()\n",
    "argonne = sieve.job().important()\n",
    "cv.add([mfrl_grad, argonne, mfrl_ugrad])"
   ]
  },
  {
   "cell_type": "code",
   "execution_count": 61,
   "metadata": {
    "collapsed": true,
    "deletable": true,
    "editable": true
   },
   "outputs": [],
   "source": [
    "# industrial experience section\n",
    "cv.section('Industrial Experience')\n",
    "steiner = sieve.job().important()\n",
    "cv.add(steiner)"
   ]
  },
  {
   "cell_type": "code",
   "execution_count": 62,
   "metadata": {
    "collapsed": true,
    "deletable": true,
    "editable": true
   },
   "outputs": [],
   "source": [
    "# teaching experience section\n",
    "cv.section('Teaching Experience')\n",
    "connor = sieve.experience()\n",
    "piper_russel = sieve.experience()\n",
    "gr_402 = sieve.experience()\n",
    "tutor_510 = sieve.experience()\n",
    "surf = sieve.experience()\n",
    "ta_310 = sieve.experience()\n",
    "trevor = sieve.experience()\n",
    "ta_300 = sieve.experience()\n",
    "gr_300 = sieve.experience()\n",
    "gr_200 = sieve.experience()\n",
    "matt = sieve.experience()\n",
    "cv.add([connor, piper_russel, gr_402, tutor_510, surf, ta_310, trevor, ta_300, gr_300, gr_200, matt])"
   ]
  },
  {
   "cell_type": "code",
   "execution_count": 63,
   "metadata": {
    "collapsed": true,
    "deletable": true,
    "editable": true
   },
   "outputs": [],
   "source": [
    "# external projects section\n",
    "cv.section('Projects')\n",
    "# tag important or not"
   ]
  },
  {
   "cell_type": "code",
   "execution_count": 64,
   "metadata": {
    "collapsed": true,
    "deletable": true,
    "editable": true
   },
   "outputs": [],
   "source": [
    "# authored articles section\n",
    "cv.section('Articles')\n",
    "# put in selected or full, depending\n",
    "# presentations section\n",
    "cv.section('Presentations')\n",
    "# put in selected or full, depending\n",
    "# patents section\n",
    "cv.section('Patents')\n",
    "# put in selected or full, depending"
   ]
  },
  {
   "cell_type": "code",
   "execution_count": 65,
   "metadata": {
    "collapsed": true,
    "deletable": true,
    "editable": true
   },
   "outputs": [],
   "source": [
    "# awards section\n",
    "cv.section('Awards')\n",
    "# tag important or not"
   ]
  },
  {
   "cell_type": "code",
   "execution_count": 66,
   "metadata": {
    "collapsed": true,
    "deletable": true,
    "editable": true
   },
   "outputs": [],
   "source": [
    "# leadership section\n",
    "cv.section('Leadership Experience')\n",
    "nego = sieve.experience()\n",
    "pgsg = sieve.experience()\n",
    "pgsg_clerk = sieve.experience()\n",
    "pgsg_adv = sieve.experience()\n",
    "tippco = sieve.experience()\n",
    "commentator = sieve.experience()\n",
    "club_soccer = sieve.experience()\n",
    "cv.add([nego, pgsg, pgsg_clerk, pgsg_adv, tippco, commentator, club_soccer])"
   ]
  },
  {
   "cell_type": "code",
   "execution_count": 67,
   "metadata": {
    "collapsed": false,
    "deletable": true,
    "editable": true
   },
   "outputs": [],
   "source": [
    "# afiliations section\n",
    "cv.section('Afilliations')\n",
    "ans = sieve.experience()\n",
    "ieee = sieve.experience()\n",
    "asme = sieve.experience()\n",
    "cv.add([ans, ieee, asme])"
   ]
  },
  {
   "cell_type": "code",
   "execution_count": 69,
   "metadata": {
    "collapsed": false
   },
   "outputs": [],
   "source": [
    "# skills section\n",
    "cv.section('Skills')\n",
    "prog = sieve.specification().important()\n",
    "cad = sieve.specification().important()\n",
    "cv.add([prog, cad])"
   ]
  },
  {
   "cell_type": "code",
   "execution_count": 71,
   "metadata": {
    "collapsed": false,
    "deletable": true,
    "editable": true
   },
   "outputs": [],
   "source": [
    "# export section\n",
    "# give job title, objective, cover letter possibly\n",
    "cv.cover_letter(\n",
    "    \"\"\"\n",
    "    Some material here.\n",
    "    \"\"\"\n",
    ")"
   ]
  }
 ],
 "metadata": {
  "hide_input": false,
  "kernelspec": {
   "display_name": "Python 2",
   "language": "python",
   "name": "python2"
  },
  "language_info": {
   "codemirror_mode": {
    "name": "ipython",
    "version": 2
   },
   "file_extension": ".py",
   "mimetype": "text/x-python",
   "name": "python",
   "nbconvert_exporter": "python",
   "pygments_lexer": "ipython2",
   "version": "2.7.12"
  },
  "latex_envs": {
   "LaTeX_envs_menu_present": true,
   "autocomplete": true,
   "bibliofile": "biblio.bib",
   "cite_by": "apalike",
   "current_citInitial": 1,
   "eqLabelWithNumbers": true,
   "eqNumInitial": 1,
   "hotkeys": {
    "equation": "Ctrl-E",
    "itemize": "Ctrl-I"
   },
   "labels_anchors": false,
   "latex_user_defs": false,
   "report_style_numbering": false,
   "user_envs_cfg": false
  }
 },
 "nbformat": 4,
 "nbformat_minor": 2
}
