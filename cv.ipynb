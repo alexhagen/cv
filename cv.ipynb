{
 "cells": [
  {
   "cell_type": "code",
   "execution_count": 18,
   "metadata": {
    "collapsed": false,
    "deletable": true,
    "editable": true
   },
   "outputs": [],
   "source": [
    "%autoreload 2\n",
    "import lyxithea.lyxithea as lyx\n",
    "import sieve.sieve as sieve\n",
    "\n",
    "bib_selected = lyx.bib('bibs/authored.bib')\n",
    "bib_full = lyx.bib('bibs/authored.bib')\n",
    "bib_patent = lyx.bib('bibs/authored.bib')\n",
    "# NAME FOR A PYTHON CV CODE COULD BE SIEVE\n",
    "\n",
    "cv = sieve.sieve('Alex Hagen')"
   ]
  },
  {
   "cell_type": "code",
   "execution_count": 19,
   "metadata": {
    "collapsed": false,
    "deletable": true,
    "editable": true
   },
   "outputs": [],
   "source": [
    "# Header section\n",
    "# email\n",
    "cv.email('ahagen@purdue.edu')\n",
    "# phone\n",
    "cv.phone('(765)418-4155')\n",
    "# website\n",
    "cv.website('alexhagen.github.io/portfolio')\n",
    "# location\n",
    "cv.location('225 N. 2nd St., 3C, Lafayette, IN')"
   ]
  },
  {
   "cell_type": "code",
   "execution_count": 20,
   "metadata": {
    "collapsed": true,
    "deletable": true,
    "editable": true
   },
   "outputs": [],
   "source": [
    "# research experience section\n",
    "cv.section('Research Experience')\n",
    "# tag important or not\n",
    "cv.add({'somematerial': None})"
   ]
  },
  {
   "cell_type": "code",
   "execution_count": 21,
   "metadata": {
    "collapsed": true,
    "deletable": true,
    "editable": true
   },
   "outputs": [],
   "source": [
    "# industrial experience section\n",
    "cv.section('Industrial Experience')\n",
    "# tag important or not"
   ]
  },
  {
   "cell_type": "code",
   "execution_count": 22,
   "metadata": {
    "collapsed": true,
    "deletable": true,
    "editable": true
   },
   "outputs": [],
   "source": [
    "# teaching experience section\n",
    "cv.section('Teaching Experience')\n",
    "# tag important or not"
   ]
  },
  {
   "cell_type": "code",
   "execution_count": 23,
   "metadata": {
    "collapsed": true,
    "deletable": true,
    "editable": true
   },
   "outputs": [],
   "source": [
    "# external projects section\n",
    "cv.section('Projects')\n",
    "# tag important or not"
   ]
  },
  {
   "cell_type": "code",
   "execution_count": 24,
   "metadata": {
    "collapsed": true,
    "deletable": true,
    "editable": true
   },
   "outputs": [],
   "source": [
    "# authored articles section\n",
    "cv.section('Articles')\n",
    "# put in selected or full, depending\n",
    "# presentations section\n",
    "cv.section('Presentations')\n",
    "# put in selected or full, depending\n",
    "# patents section\n",
    "cv.section('Patents')\n",
    "# put in selected or full, depending"
   ]
  },
  {
   "cell_type": "code",
   "execution_count": 25,
   "metadata": {
    "collapsed": true,
    "deletable": true,
    "editable": true
   },
   "outputs": [],
   "source": [
    "# awards section\n",
    "cv.section('Awards')\n",
    "# tag important or not"
   ]
  },
  {
   "cell_type": "code",
   "execution_count": 26,
   "metadata": {
    "collapsed": true,
    "deletable": true,
    "editable": true
   },
   "outputs": [],
   "source": [
    "# leadership section\n",
    "cv.section('Leadership Experience')\n",
    "# tag important or not"
   ]
  },
  {
   "cell_type": "code",
   "execution_count": 27,
   "metadata": {
    "collapsed": true,
    "deletable": true,
    "editable": true
   },
   "outputs": [],
   "source": [
    "# afiliations section\n",
    "cv.section('Afiliations')\n",
    "# tag important or not"
   ]
  },
  {
   "cell_type": "code",
   "execution_count": 28,
   "metadata": {
    "collapsed": false,
    "deletable": true,
    "editable": true
   },
   "outputs": [
    {
     "name": "stdout",
     "output_type": "stream",
     "text": [
      "('Articles', {})\n",
      "('Patents', {})\n",
      "('Industrial Experience', {})\n",
      "('Presentations', {})\n",
      "('Teaching Experience', {})\n",
      "('Research Experience', {'somematerial': None})\n",
      "('Awards', {})\n",
      "('Leadership Experience', {})\n",
      "('Afiliations', {})\n",
      "('Projects', {})\n"
     ]
    }
   ],
   "source": [
    "# export section\n",
    "# give job title, objective, cover letter possibly\n",
    "cv.cover_letter(\n",
    "    \"\"\"\n",
    "    Some material here.\n",
    "    \"\"\"\n",
    ")\n",
    "cv.resume_export()\n",
    "# indicate if resume is over two pages\n"
   ]
  },
  {
   "cell_type": "code",
   "execution_count": null,
   "metadata": {
    "collapsed": true
   },
   "outputs": [],
   "source": []
  }
 ],
 "metadata": {
  "hide_input": false,
  "kernelspec": {
   "display_name": "Python 2",
   "language": "python",
   "name": "python2"
  },
  "language_info": {
   "codemirror_mode": {
    "name": "ipython",
    "version": 2
   },
   "file_extension": ".py",
   "mimetype": "text/x-python",
   "name": "python",
   "nbconvert_exporter": "python",
   "pygments_lexer": "ipython2",
   "version": "2.7.12"
  },
  "latex_envs": {
   "LaTeX_envs_menu_present": true,
   "autocomplete": true,
   "bibliofile": "biblio.bib",
   "cite_by": "apalike",
   "current_citInitial": 1,
   "eqLabelWithNumbers": true,
   "eqNumInitial": 1,
   "hotkeys": {
    "equation": "Ctrl-E",
    "itemize": "Ctrl-I"
   },
   "labels_anchors": false,
   "latex_user_defs": false,
   "report_style_numbering": false,
   "user_envs_cfg": false
  }
 },
 "nbformat": 4,
 "nbformat_minor": 2
}
